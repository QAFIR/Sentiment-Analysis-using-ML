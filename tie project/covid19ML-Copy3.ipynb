{
 "cells": [
  {
   "cell_type": "code",
   "execution_count": 3,
   "id": "201ab544-b9f8-4300-b48f-e944addba1b4",
   "metadata": {},
   "outputs": [],
   "source": [
    "import pandas as pd\n",
    "import matplotlib.pyplot as plt\n",
    "import re"
   ]
  },
  {
   "cell_type": "code",
   "execution_count": 4,
   "id": "571f9da9-219d-4350-be80-83a0bae38022",
   "metadata": {},
   "outputs": [
    {
     "name": "stdout",
     "output_type": "stream",
     "text": [
      "Requirement already satisfied: nltk in c:\\users\\aishwarya\\appdata\\local\\programs\\python\\python312\\lib\\site-packages (3.8.1)\n",
      "Requirement already satisfied: click in c:\\users\\aishwarya\\appdata\\local\\programs\\python\\python312\\lib\\site-packages (from nltk) (8.1.7)\n",
      "Requirement already satisfied: joblib in c:\\users\\aishwarya\\appdata\\local\\programs\\python\\python312\\lib\\site-packages (from nltk) (1.3.2)\n",
      "Requirement already satisfied: regex>=2021.8.3 in c:\\users\\aishwarya\\appdata\\local\\programs\\python\\python312\\lib\\site-packages (from nltk) (2023.10.3)\n",
      "Requirement already satisfied: tqdm in c:\\users\\aishwarya\\appdata\\local\\programs\\python\\python312\\lib\\site-packages (from nltk) (4.66.1)\n",
      "Requirement already satisfied: colorama in c:\\users\\aishwarya\\appdata\\local\\programs\\python\\python312\\lib\\site-packages (from click->nltk) (0.4.6)\n"
     ]
    }
   ],
   "source": [
    "!pip install nltk"
   ]
  },
  {
   "cell_type": "code",
   "execution_count": 43,
   "id": "388a67f5-9820-4694-8848-c19927afc570",
   "metadata": {},
   "outputs": [],
   "source": [
    "from nltk.corpus import stopwords\n",
    "from nltk.stem.porter import PorterStemmer\n",
    "from sklearn.feature_extraction.text import TfidfVectorizer\n",
    "from sklearn.model_selection import train_test_split\n",
    "from sklearn.linear_model import LogisticRegression\n",
    "from sklearn.metrics import accuracy_score"
   ]
  },
  {
   "cell_type": "code",
   "execution_count": 44,
   "id": "c5367769-41a1-4c8b-bed4-597c2df75b01",
   "metadata": {},
   "outputs": [
    {
     "data": {
      "text/html": [
       "<div>\n",
       "<style scoped>\n",
       "    .dataframe tbody tr th:only-of-type {\n",
       "        vertical-align: middle;\n",
       "    }\n",
       "\n",
       "    .dataframe tbody tr th {\n",
       "        vertical-align: top;\n",
       "    }\n",
       "\n",
       "    .dataframe thead th {\n",
       "        text-align: right;\n",
       "    }\n",
       "</style>\n",
       "<table border=\"1\" class=\"dataframe\">\n",
       "  <thead>\n",
       "    <tr style=\"text-align: right;\">\n",
       "      <th></th>\n",
       "      <th>tweet_id</th>\n",
       "      <th>label</th>\n",
       "      <th>tweet_text</th>\n",
       "    </tr>\n",
       "  </thead>\n",
       "  <tbody>\n",
       "    <tr>\n",
       "      <th>0</th>\n",
       "      <td>1.360340e+18</td>\n",
       "      <td>1</td>\n",
       "      <td>4,000 a day dying from the so called Covid-19 ...</td>\n",
       "    </tr>\n",
       "    <tr>\n",
       "      <th>1</th>\n",
       "      <td>1.382900e+18</td>\n",
       "      <td>2</td>\n",
       "      <td>Pranam message for today manifested in Dhyan b...</td>\n",
       "    </tr>\n",
       "    <tr>\n",
       "      <th>2</th>\n",
       "      <td>1.375670e+18</td>\n",
       "      <td>2</td>\n",
       "      <td>Hyderabad-based ?@BharatBiotech? has sought fu...</td>\n",
       "    </tr>\n",
       "    <tr>\n",
       "      <th>3</th>\n",
       "      <td>1.381310e+18</td>\n",
       "      <td>1</td>\n",
       "      <td>Confirmation that Chinese #vaccines \"don’t hav...</td>\n",
       "    </tr>\n",
       "    <tr>\n",
       "      <th>4</th>\n",
       "      <td>1.362170e+18</td>\n",
       "      <td>3</td>\n",
       "      <td>Lab studies suggest #Pfizer, #Moderna vaccines...</td>\n",
       "    </tr>\n",
       "  </tbody>\n",
       "</table>\n",
       "</div>"
      ],
      "text/plain": [
       "       tweet_id  label                                         tweet_text\n",
       "0  1.360340e+18      1  4,000 a day dying from the so called Covid-19 ...\n",
       "1  1.382900e+18      2  Pranam message for today manifested in Dhyan b...\n",
       "2  1.375670e+18      2  Hyderabad-based ?@BharatBiotech? has sought fu...\n",
       "3  1.381310e+18      1  Confirmation that Chinese #vaccines \"don’t hav...\n",
       "4  1.362170e+18      3  Lab studies suggest #Pfizer, #Moderna vaccines..."
      ]
     },
     "execution_count": 44,
     "metadata": {},
     "output_type": "execute_result"
    }
   ],
   "source": [
    "df = pd.read_csv('./covid-19_vaccine_tweets_with_sentiment.csv')\n",
    "df.head()"
   ]
  },
  {
   "cell_type": "code",
   "execution_count": 45,
   "id": "194aefda-5454-4218-badd-2a1ca3ab9ff6",
   "metadata": {},
   "outputs": [
    {
     "name": "stdout",
     "output_type": "stream",
     "text": [
      "<class 'pandas.core.frame.DataFrame'>\n",
      "RangeIndex: 6000 entries, 0 to 5999\n",
      "Data columns (total 3 columns):\n",
      " #   Column      Non-Null Count  Dtype  \n",
      "---  ------      --------------  -----  \n",
      " 0   tweet_id    6000 non-null   float64\n",
      " 1   label       6000 non-null   int64  \n",
      " 2   tweet_text  6000 non-null   object \n",
      "dtypes: float64(1), int64(1), object(1)\n",
      "memory usage: 140.8+ KB\n"
     ]
    }
   ],
   "source": [
    "df.info()"
   ]
  },
  {
   "cell_type": "code",
   "execution_count": 46,
   "id": "02a885dd-2413-4e24-9885-24f0190c140e",
   "metadata": {},
   "outputs": [
    {
     "data": {
      "text/plain": [
       "(6000, 3)"
      ]
     },
     "execution_count": 46,
     "metadata": {},
     "output_type": "execute_result"
    }
   ],
   "source": [
    "df.shape"
   ]
  },
  {
   "cell_type": "code",
   "execution_count": 47,
   "id": "69965729-54fe-4eb2-8c4b-b37904bac03c",
   "metadata": {},
   "outputs": [
    {
     "data": {
      "text/plain": [
       "<bound method NDFrame.describe of           tweet_id  label                                         tweet_text\n",
       "0     1.360340e+18      1  4,000 a day dying from the so called Covid-19 ...\n",
       "1     1.382900e+18      2  Pranam message for today manifested in Dhyan b...\n",
       "2     1.375670e+18      2  Hyderabad-based ?@BharatBiotech? has sought fu...\n",
       "3     1.381310e+18      1  Confirmation that Chinese #vaccines \"don’t hav...\n",
       "4     1.362170e+18      3  Lab studies suggest #Pfizer, #Moderna vaccines...\n",
       "...            ...    ...                                                ...\n",
       "5995  1.370980e+18      2  @Swamy39 Dr. @Swamy39 jee :\\n\\nMany people lik...\n",
       "5996  1.379830e+18      3  So happy to be fully vaccinated against COVID-...\n",
       "5997  1.384790e+18      2  Serum Institute of India announces cost of Cov...\n",
       "5998  1.382360e+18      1  @___batshitcrazy @BarrowfordHead @Bectully I h...\n",
       "5999  1.380050e+18      2  The smart sympathy attends into the oblong not...\n",
       "\n",
       "[6000 rows x 3 columns]>"
      ]
     },
     "execution_count": 47,
     "metadata": {},
     "output_type": "execute_result"
    }
   ],
   "source": [
    "df.describe"
   ]
  },
  {
   "cell_type": "code",
   "execution_count": 48,
   "id": "b3db637b-31f3-4c96-bce2-c39ba33b415d",
   "metadata": {},
   "outputs": [
    {
     "data": {
      "text/plain": [
       "tweet_id      0\n",
       "label         0\n",
       "tweet_text    0\n",
       "dtype: int64"
      ]
     },
     "execution_count": 48,
     "metadata": {},
     "output_type": "execute_result"
    }
   ],
   "source": [
    "df.isnull().sum()"
   ]
  },
  {
   "cell_type": "code",
   "execution_count": 49,
   "id": "cb8e2f3a-3ff7-4490-8672-506f6b87f814",
   "metadata": {},
   "outputs": [
    {
     "name": "stderr",
     "output_type": "stream",
     "text": [
      "[nltk_data] Downloading package stopwords to\n",
      "[nltk_data]     C:\\Users\\AISHWARYA\\AppData\\Roaming\\nltk_data...\n",
      "[nltk_data]   Package stopwords is already up-to-date!\n"
     ]
    },
    {
     "data": {
      "text/plain": [
       "True"
      ]
     },
     "execution_count": 49,
     "metadata": {},
     "output_type": "execute_result"
    }
   ],
   "source": [
    "import nltk \n",
    "nltk.download('stopwords')"
   ]
  },
  {
   "cell_type": "code",
   "execution_count": 50,
   "id": "b94ee2ad-4da9-4d62-a1c6-7454ddafb2bb",
   "metadata": {},
   "outputs": [
    {
     "name": "stdout",
     "output_type": "stream",
     "text": [
      "['i', 'me', 'my', 'myself', 'we', 'our', 'ours', 'ourselves', 'you', \"you're\", \"you've\", \"you'll\", \"you'd\", 'your', 'yours', 'yourself', 'yourselves', 'he', 'him', 'his', 'himself', 'she', \"she's\", 'her', 'hers', 'herself', 'it', \"it's\", 'its', 'itself', 'they', 'them', 'their', 'theirs', 'themselves', 'what', 'which', 'who', 'whom', 'this', 'that', \"that'll\", 'these', 'those', 'am', 'is', 'are', 'was', 'were', 'be', 'been', 'being', 'have', 'has', 'had', 'having', 'do', 'does', 'did', 'doing', 'a', 'an', 'the', 'and', 'but', 'if', 'or', 'because', 'as', 'until', 'while', 'of', 'at', 'by', 'for', 'with', 'about', 'against', 'between', 'into', 'through', 'during', 'before', 'after', 'above', 'below', 'to', 'from', 'up', 'down', 'in', 'out', 'on', 'off', 'over', 'under', 'again', 'further', 'then', 'once', 'here', 'there', 'when', 'where', 'why', 'how', 'all', 'any', 'both', 'each', 'few', 'more', 'most', 'other', 'some', 'such', 'no', 'nor', 'not', 'only', 'own', 'same', 'so', 'than', 'too', 'very', 's', 't', 'can', 'will', 'just', 'don', \"don't\", 'should', \"should've\", 'now', 'd', 'll', 'm', 'o', 're', 've', 'y', 'ain', 'aren', \"aren't\", 'couldn', \"couldn't\", 'didn', \"didn't\", 'doesn', \"doesn't\", 'hadn', \"hadn't\", 'hasn', \"hasn't\", 'haven', \"haven't\", 'isn', \"isn't\", 'ma', 'mightn', \"mightn't\", 'mustn', \"mustn't\", 'needn', \"needn't\", 'shan', \"shan't\", 'shouldn', \"shouldn't\", 'wasn', \"wasn't\", 'weren', \"weren't\", 'won', \"won't\", 'wouldn', \"wouldn't\"]\n"
     ]
    }
   ],
   "source": [
    "print(stopwords.words('english'))"
   ]
  },
  {
   "cell_type": "code",
   "execution_count": 55,
   "id": "d4de5d8b-7eb1-4eac-bd09-b9f7cb905610",
   "metadata": {},
   "outputs": [
    {
     "data": {
      "text/plain": [
       "label\n",
       "2    3680\n",
       "3    1900\n",
       "1     420\n",
       "Name: count, dtype: int64"
      ]
     },
     "execution_count": 55,
     "metadata": {},
     "output_type": "execute_result"
    }
   ],
   "source": [
    "df.label.value_counts()"
   ]
  },
  {
   "cell_type": "code",
   "execution_count": 57,
   "id": "f93cab3e-bf47-4f48-bd0f-9e98adba43f9",
   "metadata": {},
   "outputs": [
    {
     "data": {
      "text/plain": [
       "<Axes: xlabel='label'>"
      ]
     },
     "execution_count": 57,
     "metadata": {},
     "output_type": "execute_result"
    },
    {
     "data": {
      "image/png": "[encoded data removed]",
      "text/plain": [
       "<Figure size 640x480 with 1 Axes>"
      ]
     },
     "metadata": {},
     "output_type": "display_data"
    }
   ],
   "source": [
    "df.label.value_counts().plot(kind = 'bar')"
   ]
  },
  {
   "cell_type": "code",
   "execution_count": 69,
   "id": "d35aa7a3-4be4-4ff5-bd1b-47b7fbb7c74a",
   "metadata": {},
   "outputs": [],
   "source": [
    "df.replace({'label':{1:0}}, inplace=True)"
   ]
  },
  {
   "cell_type": "code",
   "execution_count": 70,
   "id": "49b07742-74f7-4aa8-ae9b-f89e904235db",
   "metadata": {},
   "outputs": [],
   "source": [
    "df.replace({'label':{2:1}}, inplace=True)"
   ]
  },
  {
   "cell_type": "code",
   "execution_count": 74,
   "id": "9abcf1e8-bce9-451a-b147-d9184cf3c348",
   "metadata": {},
   "outputs": [],
   "source": [
    "df.replace({'label':{3:2}}, inplace=True)#0 = negative tweet 1 = neutral tweet 2 = positive tweet"
   ]
  },
  {
   "cell_type": "code",
   "execution_count": 75,
   "id": "c28294d5-af0b-48a1-b274-decfbad81f22",
   "metadata": {},
   "outputs": [],
   "source": [
    "port_stem = PorterStemmer() #to reduce a word to its root word"
   ]
  },
  {
   "cell_type": "code",
   "execution_count": 76,
   "id": "eb34f40a-bb41-498f-92c4-697353831ad8",
   "metadata": {},
   "outputs": [],
   "source": [
    "def stemming(content):\n",
    "\n",
    "    stemmed_content = re.sub('[^a-zA-Z]', ' ', content)\n",
    "    stemmed_content = stemmed_content.lower()\n",
    "    stemmed_content = stemmed_content.split() #splitting all the sentence words and storing it\n",
    "    stemmed_content = [port_stem.stem(word) for word in stemmed_content if not word in stopwords.words('english')]\n",
    "    stemmed_content = ' '.join(stemmed_content)\n",
    "    return stemmed_content"
   ]
  },
  {
   "cell_type": "code",
   "execution_count": 79,
   "id": "b953388a-dd16-47c6-8094-fc132f432015",
   "metadata": {},
   "outputs": [],
   "source": [
    "df['stemmed_content'] = df['tweet_text'].apply(stemming)"
   ]
  },
  {
   "cell_type": "code",
   "execution_count": 80,
   "id": "53141351-23cd-4cbb-bc47-1374f3768860",
   "metadata": {},
   "outputs": [
    {
     "data": {
      "text/html": [
       "<div>\n",
       "<style scoped>\n",
       "    .dataframe tbody tr th:only-of-type {\n",
       "        vertical-align: middle;\n",
       "    }\n",
       "\n",
       "    .dataframe tbody tr th {\n",
       "        vertical-align: top;\n",
       "    }\n",
       "\n",
       "    .dataframe thead th {\n",
       "        text-align: right;\n",
       "    }\n",
       "</style>\n",
       "<table border=\"1\" class=\"dataframe\">\n",
       "  <thead>\n",
       "    <tr style=\"text-align: right;\">\n",
       "      <th></th>\n",
       "      <th>tweet_id</th>\n",
       "      <th>label</th>\n",
       "      <th>tweet_text</th>\n",
       "      <th>stemmed_content</th>\n",
       "    </tr>\n",
       "  </thead>\n",
       "  <tbody>\n",
       "    <tr>\n",
       "      <th>0</th>\n",
       "      <td>1.360340e+18</td>\n",
       "      <td>0</td>\n",
       "      <td>4,000 a day dying from the so called Covid-19 ...</td>\n",
       "      <td>day die call covid vaccin dailybeast report va...</td>\n",
       "    </tr>\n",
       "    <tr>\n",
       "      <th>1</th>\n",
       "      <td>1.382900e+18</td>\n",
       "      <td>1</td>\n",
       "      <td>Pranam message for today manifested in Dhyan b...</td>\n",
       "      <td>pranam messag today manifest dhyan meenapranam...</td>\n",
       "    </tr>\n",
       "    <tr>\n",
       "      <th>2</th>\n",
       "      <td>1.375670e+18</td>\n",
       "      <td>1</td>\n",
       "      <td>Hyderabad-based ?@BharatBiotech? has sought fu...</td>\n",
       "      <td>hyderabad base bharatbiotech sought fund gover...</td>\n",
       "    </tr>\n",
       "    <tr>\n",
       "      <th>3</th>\n",
       "      <td>1.381310e+18</td>\n",
       "      <td>0</td>\n",
       "      <td>Confirmation that Chinese #vaccines \"don’t hav...</td>\n",
       "      <td>confirm chines vaccin high protect rate accord...</td>\n",
       "    </tr>\n",
       "    <tr>\n",
       "      <th>4</th>\n",
       "      <td>1.362170e+18</td>\n",
       "      <td>2</td>\n",
       "      <td>Lab studies suggest #Pfizer, #Moderna vaccines...</td>\n",
       "      <td>lab studi suggest pfizer moderna vaccin protec...</td>\n",
       "    </tr>\n",
       "  </tbody>\n",
       "</table>\n",
       "</div>"
      ],
      "text/plain": [
       "       tweet_id  label                                         tweet_text  \\\n",
       "0  1.360340e+18      0  4,000 a day dying from the so called Covid-19 ...   \n",
       "1  1.382900e+18      1  Pranam message for today manifested in Dhyan b...   \n",
       "2  1.375670e+18      1  Hyderabad-based ?@BharatBiotech? has sought fu...   \n",
       "3  1.381310e+18      0  Confirmation that Chinese #vaccines \"don’t hav...   \n",
       "4  1.362170e+18      2  Lab studies suggest #Pfizer, #Moderna vaccines...   \n",
       "\n",
       "                                     stemmed_content  \n",
       "0  day die call covid vaccin dailybeast report va...  \n",
       "1  pranam messag today manifest dhyan meenapranam...  \n",
       "2  hyderabad base bharatbiotech sought fund gover...  \n",
       "3  confirm chines vaccin high protect rate accord...  \n",
       "4  lab studi suggest pfizer moderna vaccin protec...  "
      ]
     },
     "execution_count": 80,
     "metadata": {},
     "output_type": "execute_result"
    }
   ],
   "source": [
    "df.head()"
   ]
  },
  {
   "cell_type": "code",
   "execution_count": 82,
   "id": "507ef9a1-c8f1-4c68-83fb-b87a01757e18",
   "metadata": {},
   "outputs": [
    {
     "name": "stdout",
     "output_type": "stream",
     "text": [
      "0       day die call covid vaccin dailybeast report va...\n",
      "1       pranam messag today manifest dhyan meenapranam...\n",
      "2       hyderabad base bharatbiotech sought fund gover...\n",
      "3       confirm chines vaccin high protect rate accord...\n",
      "4       lab studi suggest pfizer moderna vaccin protec...\n",
      "                              ...                        \n",
      "5995    swami dr swami jee mani peopl like get covaxin...\n",
      "5996    happi fulli vaccin covid readi serv vaccineswo...\n",
      "5997    serum institut india announc cost covishield v...\n",
      "5998    batshitcrazi barrowfordhead bectulli mine yest...\n",
      "5999    smart sympathi attend oblong noth educ feedbac...\n",
      "Name: stemmed_content, Length: 6000, dtype: object\n"
     ]
    }
   ],
   "source": [
    "print(df['stemmed_content'])"
   ]
  },
  {
   "cell_type": "code",
   "execution_count": 83,
   "id": "2bddd070-6fd0-4be4-974c-dc53393042da",
   "metadata": {},
   "outputs": [
    {
     "name": "stdout",
     "output_type": "stream",
     "text": [
      "0       0\n",
      "1       1\n",
      "2       1\n",
      "3       0\n",
      "4       2\n",
      "       ..\n",
      "5995    1\n",
      "5996    2\n",
      "5997    1\n",
      "5998    0\n",
      "5999    1\n",
      "Name: label, Length: 6000, dtype: int64\n"
     ]
    }
   ],
   "source": [
    "print(df['label'])"
   ]
  },
  {
   "cell_type": "code",
   "execution_count": 85,
   "id": "8d00f4c0-f197-4c9a-b2c9-3c9dbde1d700",
   "metadata": {},
   "outputs": [],
   "source": [
    "#separating the data and the label\n",
    "X = df['stemmed_content'].values\n",
    "Y = df['label'].values"
   ]
  },
  {
   "cell_type": "code",
   "execution_count": 86,
   "id": "879d96e1-d320-445d-8f21-3c15486f0da4",
   "metadata": {},
   "outputs": [
    {
     "name": "stdout",
     "output_type": "stream",
     "text": [
      "['day die call covid vaccin dailybeast report vaccin pfizervaccin moderna http co p nqwwzpk'\n",
      " 'pranam messag today manifest dhyan meenapranam truth love karm light natur conscious fridaythought fridaymorn coronavirusindia covid india navratri thane ambedkarjayanti modiji narendramodi secondcovidwav covaxin http co bqnomvowjg'\n",
      " 'hyderabad base bharatbiotech sought fund govern ramp product indigen develop covid vaccin covaxin compani written dbtindia seek rs crore ramp http co wjwlvigmc'\n",
      " ...\n",
      " 'serum institut india announc cost covishield vaccin vaccin cost rs govt hospit amp rs privat hospit covaxin india covishieldvaccin covid seruminstituteofindia http co gik zrr jh'\n",
      " 'batshitcrazi barrowfordhead bectulli mine yesterday abl get bed today feel vaccin oxfordastrazeneca'\n",
      " 'smart sympathi attend oblong noth educ feedback ate ordinari covaxin http co n ogtietdp']\n"
     ]
    }
   ],
   "source": [
    "print(X)"
   ]
  },
  {
   "cell_type": "code",
   "execution_count": 87,
   "id": "2f3a03fc-cc36-400e-aff0-c5e8a05c6eb1",
   "metadata": {},
   "outputs": [
    {
     "name": "stdout",
     "output_type": "stream",
     "text": [
      "[0 1 1 ... 1 0 1]\n"
     ]
    }
   ],
   "source": [
    "print(Y)"
   ]
  },
  {
   "cell_type": "code",
   "execution_count": 88,
   "id": "10dbdbe5-6317-42ae-92c8-a9809c1f77f8",
   "metadata": {},
   "outputs": [],
   "source": [
    "#splitting the data to train and test data\n",
    "X_train, X_test, Y_train, Y_test = train_test_split(X, Y, test_size=0.2, stratify=Y, random_state=2)"
   ]
  },
  {
   "cell_type": "code",
   "execution_count": 89,
   "id": "37538fdc-0e22-411b-8354-9e9aaccb5827",
   "metadata": {},
   "outputs": [
    {
     "name": "stdout",
     "output_type": "stream",
     "text": [
      "(6000,) (4800,) (1200,)\n"
     ]
    }
   ],
   "source": [
    "print(X.shape, X_train.shape, X_test.shape)"
   ]
  },
  {
   "cell_type": "code",
   "execution_count": 90,
   "id": "968a3c4e-e10a-4494-9dc5-fe7055911c46",
   "metadata": {},
   "outputs": [
    {
     "name": "stdout",
     "output_type": "stream",
     "text": [
      "['johntori embarrass moscow russia everyth open busi usual ontario canada report case covid new case toronto lockdown close busi church famili hope mentalhealth canada get syria sputnikv effect http co aepcvbmhl'\n",
      " 'nd shot done moderna girl vaccin'\n",
      " 'thailand use china sinovac covid vaccin kick nation vaccin program aim inocul two third countri elig peopl media report said http co hu qniqc'\n",
      " ...\n",
      " 'unfortun pretti bad sever reaction second covid shot howev live last damag moderna covid vaccin'\n",
      " 'pfizer biontech produc billion dose covid vaccin via indiatvnew pfizer pfizerbiontech coronavirusvaccin coronaviru http co f yhtfk'\n",
      " 'justintrudeau hi toronto ontario canada receiv sputnikv vaccin canadian govern doug ford trudeau pretend russian effect vaccin covid lockdown jesu fordnat justintrudeau cpho canada celliott http co dbmlp ra']\n"
     ]
    }
   ],
   "source": [
    "print(X_train)"
   ]
  },
  {
   "cell_type": "code",
   "execution_count": 91,
   "id": "21f09b62-b75a-41c1-a8f1-11df86545916",
   "metadata": {},
   "outputs": [
    {
     "name": "stdout",
     "output_type": "stream",
     "text": [
      "['icmr covaxin neutralis multipl variant sar cov doubl mutant strain dynamitenewscovid awar covaxin icmrdelhi bharatbiotech http co ztegymha p'\n",
      " 'moderna pfizer covid vaccin may reduc coronaviru transmiss mrna pfe http co z ojgslrb'\n",
      " 'moscow russia everyth open busi usual ontario canada report case covid new case toronto lockdown close busi church famili hope mentalhealthmatt canada get syria sputnikv effect http co dsh zcyita http co qruecf twp'\n",
      " ...\n",
      " 'understand covaxin freeli avail mumbai trueeven jjhospit reserv seconddos suppli issu distribut issu someth els officeofut mybmc pmoindia vikasreport remanagarajan teensthack rupalije rachesella'\n",
      " 'think nsitharaman need astrazeneca vaccin shot rememb promis taken covaxin amp forgotten covishield similar forget pmcbankcrisi pmcbankdepositor psb famili pmc bank like step child promis forgotten finminindia http co bg ijmcikq'\n",
      " 'shot done excit stupidpandem readytogotoabar kerrysellsaz covidvaccin moderna queen creek arizona http co fhufmopguj']\n"
     ]
    }
   ],
   "source": [
    "print(X_test)"
   ]
  },
  {
   "cell_type": "code",
   "execution_count": 92,
   "id": "f1e669c6-3fb4-49d2-bebd-74c82ca57948",
   "metadata": {},
   "outputs": [],
   "source": [
    "# converting the textual data to numerical data\n",
    "\n",
    "vectorizer = TfidfVectorizer()\n",
    "\n",
    "X_train = vectorizer.fit_transform(X_train)\n",
    "X_test = vectorizer.transform(X_test)"
   ]
  },
  {
   "cell_type": "code",
   "execution_count": 93,
   "id": "235beedc-9a9f-4bc1-a395-ed82b1cd9334",
   "metadata": {},
   "outputs": [
    {
     "name": "stdout",
     "output_type": "stream",
     "text": [
      "  (0, 176)\t0.29403758365705\n",
      "  (0, 2254)\t0.05228935283512474\n",
      "  (0, 5772)\t0.05233633994779664\n",
      "  (0, 3706)\t0.1276783279027243\n",
      "  (0, 12428)\t0.09892890763003942\n",
      "  (0, 12878)\t0.17632934853738802\n",
      "  (0, 4890)\t0.11056124888199327\n",
      "  (0, 8197)\t0.19270566679993906\n",
      "  (0, 5680)\t0.1527771232628444\n",
      "  (0, 4201)\t0.16430460765754668\n",
      "  (0, 2112)\t0.1777833234849791\n",
      "  (0, 2203)\t0.18515911238572072\n",
      "  (0, 7624)\t0.1539129821612201\n",
      "  (0, 13406)\t0.16751356066561268\n",
      "  (0, 8926)\t0.14599574503901716\n",
      "  (0, 2562)\t0.06965425044564698\n",
      "  (0, 1824)\t0.31638750166486074\n",
      "  (0, 11151)\t0.15240625752862244\n",
      "  (0, 1752)\t0.3051824347013055\n",
      "  (0, 9515)\t0.16304688608221077\n",
      "  (0, 13988)\t0.19215077775312653\n",
      "  (0, 1650)\t0.3231858222692394\n",
      "  (0, 9535)\t0.1789132961534303\n",
      "  (0, 4045)\t0.18607927613119463\n",
      "  (0, 11495)\t0.1323583619475912\n",
      "  :\t:\n",
      "  (4799, 10391)\t0.28387597245089524\n",
      "  (4799, 5553)\t0.24338732374808858\n",
      "  (4799, 1922)\t0.2259672366932975\n",
      "  (4799, 2645)\t0.23526497190938964\n",
      "  (4799, 10877)\t0.254261931738111\n",
      "  (4799, 6819)\t0.4019562818970314\n",
      "  (4799, 13516)\t0.16505984348316863\n",
      "  (4799, 4534)\t0.16943400557661292\n",
      "  (4799, 3406)\t0.16990583119415628\n",
      "  (4799, 4536)\t0.19975839314302185\n",
      "  (4799, 6562)\t0.18397508523852774\n",
      "  (4799, 5092)\t0.15744142005163686\n",
      "  (4799, 11035)\t0.12545996244732777\n",
      "  (4799, 11499)\t0.15377869578316872\n",
      "  (4799, 1754)\t0.2259672366932975\n",
      "  (4799, 14067)\t0.09362633294857982\n",
      "  (4799, 2254)\t0.04649846602488537\n",
      "  (4799, 5772)\t0.046540249457720555\n",
      "  (4799, 3706)\t0.11353834136786245\n",
      "  (4799, 12428)\t0.08797283196101038\n",
      "  (4799, 7624)\t0.13686758744898525\n",
      "  (4799, 13406)\t0.14896194324450152\n",
      "  (4799, 2562)\t0.06194025403313344\n",
      "  (4799, 1752)\t0.2713844081431841\n",
      "  (4799, 9515)\t0.1449899392876842\n"
     ]
    }
   ],
   "source": [
    "print(X_train)"
   ]
  },
  {
   "cell_type": "code",
   "execution_count": 94,
   "id": "40b13f98-6aff-4785-ae09-488d659aaa72",
   "metadata": {},
   "outputs": [
    {
     "name": "stdout",
     "output_type": "stream",
     "text": [
      "  (0, 14193)\t0.22528468376411453\n",
      "  (0, 12602)\t0.2700318702431583\n",
      "  (0, 11661)\t0.28415464330354023\n",
      "  (0, 8921)\t0.30458777574699775\n",
      "  (0, 8657)\t0.2794475697274882\n",
      "  (0, 8632)\t0.2932517676669751\n",
      "  (0, 5905)\t0.30208736651439394\n",
      "  (0, 5904)\t0.2794475697274882\n",
      "  (0, 5772)\t0.06659496197345542\n",
      "  (0, 3400)\t0.27517564494431396\n",
      "  (0, 2553)\t0.23834017674261995\n",
      "  (0, 2549)\t0.2765562341983262\n",
      "  (0, 2254)\t0.06653517359343593\n",
      "  (0, 1185)\t0.20354875233814673\n",
      "  (0, 849)\t0.3317707374230893\n",
      "  (1, 14067)\t0.0926736734742435\n",
      "  (1, 13463)\t0.4818216554778031\n",
      "  (1, 11065)\t0.42505088598595964\n",
      "  (1, 10028)\t0.19587748707791328\n",
      "  (1, 10024)\t0.4818216554778031\n",
      "  (1, 8585)\t0.3123219014784117\n",
      "  (1, 8440)\t0.12921317275880417\n",
      "  (1, 8085)\t0.32516106385270943\n",
      "  (1, 5772)\t0.09213339336964936\n",
      "  (1, 2562)\t0.12262000863220553\n",
      "  :\t:\n",
      "  (1198, 10196)\t0.2751348449564427\n",
      "  (1198, 9227)\t0.2751348449564427\n",
      "  (1198, 8881)\t0.14988059281355384\n",
      "  (1198, 7518)\t0.13688855468022054\n",
      "  (1198, 5772)\t0.04729021304796385\n",
      "  (1198, 4551)\t0.23905610249092943\n",
      "  (1198, 4401)\t0.2473093403523108\n",
      "  (1198, 4201)\t0.14846280631465159\n",
      "  (1198, 2630)\t0.1327685993059981\n",
      "  (1198, 2553)\t0.08462470284569358\n",
      "  (1198, 2254)\t0.047247756304313465\n",
      "  (1198, 2048)\t0.26568728323608715\n",
      "  (1198, 1172)\t0.2751348449564427\n",
      "  (1198, 959)\t0.24292413114315287\n",
      "  (1198, 741)\t0.12137231337403426\n",
      "  (1198, 455)\t0.11292817571954655\n",
      "  (1199, 12045)\t0.21665731266960858\n",
      "  (1199, 10809)\t0.5602569913347502\n",
      "  (1199, 8440)\t0.12881815659380974\n",
      "  (1199, 5772)\t0.09185173338917091\n",
      "  (1199, 4088)\t0.40447028395911655\n",
      "  (1199, 3375)\t0.2944835174784832\n",
      "  (1199, 2671)\t0.5602569913347502\n",
      "  (1199, 2609)\t0.20375133437490686\n",
      "  (1199, 2254)\t0.09176926969854654\n"
     ]
    }
   ],
   "source": [
    "print(X_test)"
   ]
  },
  {
   "cell_type": "code",
   "execution_count": 121,
   "id": "ce5c0852-740c-4c66-9bbf-5c6581e137ad",
   "metadata": {},
   "outputs": [],
   "source": [
    "#training the machine learning model using logistic regression\n",
    "model = LogisticRegression(max_iter=1000, C=1.0, penalty='l2')"
   ]
  },
  {
   "cell_type": "code",
   "execution_count": 122,
   "id": "3ed3cd76-588d-40dc-8415-7e7291fe8338",
   "metadata": {},
   "outputs": [
    {
     "data": {
      "text/html": [
       "<style>#sk-container-id-3 {color: black;}#sk-container-id-3 pre{padding: 0;}#sk-container-id-3 div.sk-toggleable {background-color: white;}#sk-container-id-3 label.sk-toggleable__label {cursor: pointer;display: block;width: 100%;margin-bottom: 0;padding: 0.3em;box-sizing: border-box;text-align: center;}#sk-container-id-3 label.sk-toggleable__label-arrow:before {content: \"▸\";float: left;margin-right: 0.25em;color: #696969;}#sk-container-id-3 label.sk-toggleable__label-arrow:hover:before {color: black;}#sk-container-id-3 div.sk-estimator:hover label.sk-toggleable__label-arrow:before {color: black;}#sk-container-id-3 div.sk-toggleable__content {max-height: 0;max-width: 0;overflow: hidden;text-align: left;background-color: #f0f8ff;}#sk-container-id-3 div.sk-toggleable__content pre {margin: 0.2em;color: black;border-radius: 0.25em;background-color: #f0f8ff;}#sk-container-id-3 input.sk-toggleable__control:checked~div.sk-toggleable__content {max-height: 200px;max-width: 100%;overflow: auto;}#sk-container-id-3 input.sk-toggleable__control:checked~label.sk-toggleable__label-arrow:before {content: \"▾\";}#sk-container-id-3 div.sk-estimator input.sk-toggleable__control:checked~label.sk-toggleable__label {background-color: #d4ebff;}#sk-container-id-3 div.sk-label input.sk-toggleable__control:checked~label.sk-toggleable__label {background-color: #d4ebff;}#sk-container-id-3 input.sk-hidden--visually {border: 0;clip: rect(1px 1px 1px 1px);clip: rect(1px, 1px, 1px, 1px);height: 1px;margin: -1px;overflow: hidden;padding: 0;position: absolute;width: 1px;}#sk-container-id-3 div.sk-estimator {font-family: monospace;background-color: #f0f8ff;border: 1px dotted black;border-radius: 0.25em;box-sizing: border-box;margin-bottom: 0.5em;}#sk-container-id-3 div.sk-estimator:hover {background-color: #d4ebff;}#sk-container-id-3 div.sk-parallel-item::after {content: \"\";width: 100%;border-bottom: 1px solid gray;flex-grow: 1;}#sk-container-id-3 div.sk-label:hover label.sk-toggleable__label {background-color: #d4ebff;}#sk-container-id-3 div.sk-serial::before {content: \"\";position: absolute;border-left: 1px solid gray;box-sizing: border-box;top: 0;bottom: 0;left: 50%;z-index: 0;}#sk-container-id-3 div.sk-serial {display: flex;flex-direction: column;align-items: center;background-color: white;padding-right: 0.2em;padding-left: 0.2em;position: relative;}#sk-container-id-3 div.sk-item {position: relative;z-index: 1;}#sk-container-id-3 div.sk-parallel {display: flex;align-items: stretch;justify-content: center;background-color: white;position: relative;}#sk-container-id-3 div.sk-item::before, #sk-container-id-3 div.sk-parallel-item::before {content: \"\";position: absolute;border-left: 1px solid gray;box-sizing: border-box;top: 0;bottom: 0;left: 50%;z-index: -1;}#sk-container-id-3 div.sk-parallel-item {display: flex;flex-direction: column;z-index: 1;position: relative;background-color: white;}#sk-container-id-3 div.sk-parallel-item:first-child::after {align-self: flex-end;width: 50%;}#sk-container-id-3 div.sk-parallel-item:last-child::after {align-self: flex-start;width: 50%;}#sk-container-id-3 div.sk-parallel-item:only-child::after {width: 0;}#sk-container-id-3 div.sk-dashed-wrapped {border: 1px dashed gray;margin: 0 0.4em 0.5em 0.4em;box-sizing: border-box;padding-bottom: 0.4em;background-color: white;}#sk-container-id-3 div.sk-label label {font-family: monospace;font-weight: bold;display: inline-block;line-height: 1.2em;}#sk-container-id-3 div.sk-label-container {text-align: center;}#sk-container-id-3 div.sk-container {/* jupyter's `normalize.less` sets `[hidden] { display: none; }` but bootstrap.min.css set `[hidden] { display: none !important; }` so we also need the `!important` here to be able to override the default hidden behavior on the sphinx rendered scikit-learn.org. See: https://github.com/scikit-learn/scikit-learn/issues/21755 */display: inline-block !important;position: relative;}#sk-container-id-3 div.sk-text-repr-fallback {display: none;}</style><div id=\"sk-container-id-3\" class=\"sk-top-container\"><div class=\"sk-text-repr-fallback\"><pre>LogisticRegression(max_iter=1000)</pre><b>In a Jupyter environment, please rerun this cell to show the HTML representation or trust the notebook. <br />On GitHub, the HTML representation is unable to render, please try loading this page with nbviewer.org.</b></div><div class=\"sk-container\" hidden><div class=\"sk-item\"><div class=\"sk-estimator sk-toggleable\"><input class=\"sk-toggleable__control sk-hidden--visually\" id=\"sk-estimator-id-3\" type=\"checkbox\" checked><label for=\"sk-estimator-id-3\" class=\"sk-toggleable__label sk-toggleable__label-arrow\">LogisticRegression</label><div class=\"sk-toggleable__content\"><pre>LogisticRegression(max_iter=1000)</pre></div></div></div></div></div>"
      ],
      "text/plain": [
       "LogisticRegression(max_iter=1000)"
      ]
     },
     "execution_count": 122,
     "metadata": {},
     "output_type": "execute_result"
    }
   ],
   "source": [
    "model.fit(X_train, Y_train)"
   ]
  },
  {
   "cell_type": "code",
   "execution_count": 123,
   "id": "d35d8f9d-b3c9-4377-a7b5-573daaa1f6b7",
   "metadata": {},
   "outputs": [],
   "source": [
    "#model evaluation\n",
    "#accuracy score on the training data\n",
    "X_train_prediction = model.predict(X_train)\n",
    "training_data_accuracy = accuracy_score(Y_train, X_train_prediction)"
   ]
  },
  {
   "cell_type": "code",
   "execution_count": 124,
   "id": "79587e6b-4122-4d76-a43b-1b07c1eb2115",
   "metadata": {},
   "outputs": [
    {
     "name": "stdout",
     "output_type": "stream",
     "text": [
      "Cross-validation scores: [0.84328358 0.86567164 0.87969925 0.84962406 0.86466165 0.87218045]\n"
     ]
    }
   ],
   "source": [
    "from sklearn.model_selection import cross_val_score\n",
    "\n",
    "# Perform cross-validation\n",
    "scores = cross_val_score(model, X_train, Y_train, cv=6)  # Adjust the number of folds as needed\n",
    "print(\"Cross-validation scores:\", scores)"
   ]
  },
  {
   "cell_type": "code",
   "execution_count": 125,
   "id": "6ded40d2-2996-4962-be70-53c16885f5cb",
   "metadata": {},
   "outputs": [
    {
     "name": "stdout",
     "output_type": "stream",
     "text": [
      "Accuracy score on the training data: 0.8825\n"
     ]
    }
   ],
   "source": [
    "print('Accuracy score on the training data:', training_data_accuracy)"
   ]
  },
  {
   "cell_type": "code",
   "execution_count": 126,
   "id": "286669a2-62f9-40ac-81f7-7fc667c5760c",
   "metadata": {},
   "outputs": [],
   "source": [
    "X_test_prediction = model.predict(X_test)\n",
    "test_data_accuracy = accuracy_score(Y_test, X_test_prediction)"
   ]
  },
  {
   "cell_type": "code",
   "execution_count": 127,
   "id": "cf0d1fa7-def7-41be-b9f9-e1476cc4745a",
   "metadata": {},
   "outputs": [
    {
     "name": "stdout",
     "output_type": "stream",
     "text": [
      "Accuracy score on the test data: 0.855\n"
     ]
    }
   ],
   "source": [
    "print('Accuracy score on the test data:', test_data_accuracy) #no overfitting"
   ]
  },
  {
   "cell_type": "code",
   "execution_count": 128,
   "id": "98784415-34f6-459b-8432-1b0f80fe2b8c",
   "metadata": {},
   "outputs": [],
   "source": [
    "#saving the trained model\n",
    "import pickle "
   ]
  },
  {
   "cell_type": "code",
   "execution_count": 129,
   "id": "c570e0d4-a975-407f-9f79-bed68dfb17ae",
   "metadata": {},
   "outputs": [],
   "source": [
    "filename = 'trained_model.sav'\n",
    "pickle.dump(model, open(filename, 'wb'))"
   ]
  },
  {
   "cell_type": "code",
   "execution_count": 141,
   "id": "aebf5993-3ff7-4a04-856b-0cdde58a9166",
   "metadata": {},
   "outputs": [],
   "source": [
    "#using the saved model for future predictions\n",
    "#loading the saved model\n",
    "loaded_model = pickle.load(open('trained_model.sav', 'rb'))"
   ]
  },
  {
   "cell_type": "code",
   "execution_count": 148,
   "id": "cffc1e33-fe02-4b58-8c48-442efd58f8af",
   "metadata": {},
   "outputs": [
    {
     "name": "stdout",
     "output_type": "stream",
     "text": [
      "actual value = [1]\n",
      "prediction = [1]\n",
      "Neutral Tweet\n"
     ]
    }
   ],
   "source": [
    "X_new = X_test[[100]] #printing the 100th data point\n",
    "print('actual value =', Y_test[[100]])\n",
    "\n",
    "prediction = model.predict(X_new)\n",
    "print('prediction =', prediction)\n",
    "\n",
    "if(prediction[0] == 0):\n",
    "    print('Negative Tweet')\n",
    "elif(prediction[0] == 1):\n",
    "    print('Neutral Tweet')\n",
    "else:\n",
    "    print('Positive Tweet')"
   ]
  },
  {
   "cell_type": "code",
   "execution_count": 149,
   "id": "cecea318-c58d-4c81-b34a-321c86a59be1",
   "metadata": {},
   "outputs": [
    {
     "name": "stdout",
     "output_type": "stream",
     "text": [
      "actual value = [0]\n",
      "prediction = [0]\n",
      "Negative Tweet\n"
     ]
    }
   ],
   "source": [
    "X_new = X_test[[105]] \n",
    "print('actual value =', Y_test[[105]])\n",
    "\n",
    "prediction = model.predict(X_new)\n",
    "print('prediction =', prediction)\n",
    "\n",
    "if(prediction[0] == 0):\n",
    "    print('Negative Tweet')\n",
    "elif(prediction[0] == 1):\n",
    "    print('Neutral Tweet')\n",
    "else:\n",
    "    print('Positive Tweet')"
   ]
  },
  {
   "cell_type": "code",
   "execution_count": 269,
   "id": "21b5bf60-3465-4c54-9942-372c67690549",
   "metadata": {},
   "outputs": [],
   "source": [
    "import joblib"
   ]
  },
  {
   "cell_type": "code",
   "execution_count": 282,
   "id": "7c7e6d89-5b07-45f2-9d9a-6a5da40e0a18",
   "metadata": {},
   "outputs": [
    {
     "data": {
      "text/plain": [
       "['./covid19MLmodel-Copy1']"
      ]
     },
     "execution_count": 282,
     "metadata": {},
     "output_type": "execute_result"
    }
   ],
   "source": [
    "joblib.dump(model, './covid19MLmodel-Copy1')"
   ]
  },
  {
   "cell_type": "code",
   "execution_count": 276,
   "id": "67f2db75-0b1c-432e-a188-d1884eaa8d4e",
   "metadata": {},
   "outputs": [
    {
     "data": {
      "text/html": [
       "<div>\n",
       "<style scoped>\n",
       "    .dataframe tbody tr th:only-of-type {\n",
       "        vertical-align: middle;\n",
       "    }\n",
       "\n",
       "    .dataframe tbody tr th {\n",
       "        vertical-align: top;\n",
       "    }\n",
       "\n",
       "    .dataframe thead th {\n",
       "        text-align: right;\n",
       "    }\n",
       "</style>\n",
       "<table border=\"1\" class=\"dataframe\">\n",
       "  <thead>\n",
       "    <tr style=\"text-align: right;\">\n",
       "      <th></th>\n",
       "      <th>0</th>\n",
       "      <th>pred</th>\n",
       "    </tr>\n",
       "  </thead>\n",
       "  <tbody>\n",
       "    <tr>\n",
       "      <th>0</th>\n",
       "      <td>1</td>\n",
       "      <td>1</td>\n",
       "    </tr>\n",
       "    <tr>\n",
       "      <th>1</th>\n",
       "      <td>1</td>\n",
       "      <td>1</td>\n",
       "    </tr>\n",
       "    <tr>\n",
       "      <th>2</th>\n",
       "      <td>1</td>\n",
       "      <td>0</td>\n",
       "    </tr>\n",
       "    <tr>\n",
       "      <th>3</th>\n",
       "      <td>1</td>\n",
       "      <td>1</td>\n",
       "    </tr>\n",
       "    <tr>\n",
       "      <th>4</th>\n",
       "      <td>1</td>\n",
       "      <td>1</td>\n",
       "    </tr>\n",
       "    <tr>\n",
       "      <th>...</th>\n",
       "      <td>...</td>\n",
       "      <td>...</td>\n",
       "    </tr>\n",
       "    <tr>\n",
       "      <th>195</th>\n",
       "      <td>1</td>\n",
       "      <td>1</td>\n",
       "    </tr>\n",
       "    <tr>\n",
       "      <th>196</th>\n",
       "      <td>1</td>\n",
       "      <td>1</td>\n",
       "    </tr>\n",
       "    <tr>\n",
       "      <th>197</th>\n",
       "      <td>1</td>\n",
       "      <td>1</td>\n",
       "    </tr>\n",
       "    <tr>\n",
       "      <th>198</th>\n",
       "      <td>0</td>\n",
       "      <td>0</td>\n",
       "    </tr>\n",
       "    <tr>\n",
       "      <th>199</th>\n",
       "      <td>1</td>\n",
       "      <td>1</td>\n",
       "    </tr>\n",
       "  </tbody>\n",
       "</table>\n",
       "<p>200 rows × 2 columns</p>\n",
       "</div>"
      ],
      "text/plain": [
       "     0  pred\n",
       "0    1     1\n",
       "1    1     1\n",
       "2    1     0\n",
       "3    1     1\n",
       "4    1     1\n",
       "..  ..   ...\n",
       "195  1     1\n",
       "196  1     1\n",
       "197  1     1\n",
       "198  0     0\n",
       "199  1     1\n",
       "\n",
       "[200 rows x 2 columns]"
      ]
     },
     "execution_count": 276,
     "metadata": {},
     "output_type": "execute_result"
    }
   ],
   "source": [
    "Y_pred= model.predict(X_test)\n",
    "comp= pd.DataFrame(Y_test)\n",
    "comp['pred']= Y_pred\n",
    "comp"
   ]
  },
  {
   "cell_type": "code",
   "execution_count": 287,
   "id": "e62ff2fa-511c-4da2-b99e-7b73a499e954",
   "metadata": {},
   "outputs": [
    {
     "name": "stdout",
     "output_type": "stream",
     "text": [
      "Running on local URL:  http://127.0.0.1:7892\n",
      "\n",
      "To create a public link, set `share=True` in `launch()`.\n"
     ]
    },
    {
     "data": {
      "text/html": [
       "<div><iframe src=\"http://127.0.0.1:7892/\" width=\"100%\" height=\"500\" allow=\"autoplay; camera; microphone; clipboard-read; clipboard-write;\" frameborder=\"0\" allowfullscreen></iframe></div>"
      ],
      "text/plain": [
       "<IPython.core.display.HTML object>"
      ]
     },
     "metadata": {},
     "output_type": "display_data"
    },
    {
     "data": {
      "text/plain": []
     },
     "execution_count": 287,
     "metadata": {},
     "output_type": "execute_result"
    },
    {
     "name": "stderr",
     "output_type": "stream",
     "text": [
      "Traceback (most recent call last):\n",
      "  File \"C:\\Users\\AISHWARYA\\AppData\\Local\\Programs\\Python\\Python312\\Lib\\site-packages\\gradio\\queueing.py\", line 456, in call_prediction\n",
      "    output = await route_utils.call_process_api(\n",
      "             ^^^^^^^^^^^^^^^^^^^^^^^^^^^^^^^^^^^\n",
      "  File \"C:\\Users\\AISHWARYA\\AppData\\Local\\Programs\\Python\\Python312\\Lib\\site-packages\\gradio\\route_utils.py\", line 232, in call_process_api\n",
      "    output = await app.get_blocks().process_api(\n",
      "             ^^^^^^^^^^^^^^^^^^^^^^^^^^^^^^^^^^^\n",
      "  File \"C:\\Users\\AISHWARYA\\AppData\\Local\\Programs\\Python\\Python312\\Lib\\site-packages\\gradio\\blocks.py\", line 1522, in process_api\n",
      "    result = await self.call_function(\n",
      "             ^^^^^^^^^^^^^^^^^^^^^^^^^\n",
      "  File \"C:\\Users\\AISHWARYA\\AppData\\Local\\Programs\\Python\\Python312\\Lib\\site-packages\\gradio\\blocks.py\", line 1144, in call_function\n",
      "    prediction = await anyio.to_thread.run_sync(\n",
      "                 ^^^^^^^^^^^^^^^^^^^^^^^^^^^^^^^\n",
      "  File \"C:\\Users\\AISHWARYA\\AppData\\Local\\Programs\\Python\\Python312\\Lib\\site-packages\\anyio\\to_thread.py\", line 33, in run_sync\n",
      "    return await get_asynclib().run_sync_in_worker_thread(\n",
      "           ^^^^^^^^^^^^^^^^^^^^^^^^^^^^^^^^^^^^^^^^^^^^^^^\n",
      "  File \"C:\\Users\\AISHWARYA\\AppData\\Local\\Programs\\Python\\Python312\\Lib\\site-packages\\anyio\\_backends\\_asyncio.py\", line 877, in run_sync_in_worker_thread\n",
      "    return await future\n",
      "           ^^^^^^^^^^^^\n",
      "  File \"C:\\Users\\AISHWARYA\\AppData\\Local\\Programs\\Python\\Python312\\Lib\\site-packages\\anyio\\_backends\\_asyncio.py\", line 807, in run\n",
      "    result = context.run(func, *args)\n",
      "             ^^^^^^^^^^^^^^^^^^^^^^^^\n",
      "  File \"C:\\Users\\AISHWARYA\\AppData\\Local\\Programs\\Python\\Python312\\Lib\\site-packages\\gradio\\utils.py\", line 674, in wrapper\n",
      "    response = f(*args, **kwargs)\n",
      "               ^^^^^^^^^^^^^^^^^^\n",
      "  File \"C:\\Users\\AISHWARYA\\AppData\\Local\\Temp\\ipykernel_24372\\2323687586.py\", line 5, in greet\n",
      "    pred = model1.predict(datapoint)\n",
      "           ^^^^^^^^^^^^^^^^^^^^^^^^^\n",
      "  File \"C:\\Users\\AISHWARYA\\AppData\\Local\\Programs\\Python\\Python312\\Lib\\site-packages\\sklearn\\linear_model\\_base.py\", line 451, in predict\n",
      "    scores = self.decision_function(X)\n",
      "             ^^^^^^^^^^^^^^^^^^^^^^^^^\n",
      "  File \"C:\\Users\\AISHWARYA\\AppData\\Local\\Programs\\Python\\Python312\\Lib\\site-packages\\sklearn\\linear_model\\_base.py\", line 432, in decision_function\n",
      "    X = self._validate_data(X, accept_sparse=\"csr\", reset=False)\n",
      "        ^^^^^^^^^^^^^^^^^^^^^^^^^^^^^^^^^^^^^^^^^^^^^^^^^^^^^^^^\n",
      "  File \"C:\\Users\\AISHWARYA\\AppData\\Local\\Programs\\Python\\Python312\\Lib\\site-packages\\sklearn\\base.py\", line 605, in _validate_data\n",
      "    out = check_array(X, input_name=\"X\", **check_params)\n",
      "          ^^^^^^^^^^^^^^^^^^^^^^^^^^^^^^^^^^^^^^^^^^^^^^\n",
      "  File \"C:\\Users\\AISHWARYA\\AppData\\Local\\Programs\\Python\\Python312\\Lib\\site-packages\\sklearn\\utils\\validation.py\", line 930, in check_array\n",
      "    raise ValueError(\n",
      "ValueError: Expected 2D array, got scalar array instead:\n",
      "array=1.0.\n",
      "Reshape your data either using array.reshape(-1, 1) if your data has a single feature or array.reshape(1, -1) if it contains a single sample.\n",
      "Traceback (most recent call last):\n",
      "  File \"C:\\Users\\AISHWARYA\\AppData\\Local\\Programs\\Python\\Python312\\Lib\\site-packages\\gradio\\queueing.py\", line 456, in call_prediction\n",
      "    output = await route_utils.call_process_api(\n",
      "             ^^^^^^^^^^^^^^^^^^^^^^^^^^^^^^^^^^^\n",
      "  File \"C:\\Users\\AISHWARYA\\AppData\\Local\\Programs\\Python\\Python312\\Lib\\site-packages\\gradio\\route_utils.py\", line 232, in call_process_api\n",
      "    output = await app.get_blocks().process_api(\n",
      "             ^^^^^^^^^^^^^^^^^^^^^^^^^^^^^^^^^^^\n",
      "  File \"C:\\Users\\AISHWARYA\\AppData\\Local\\Programs\\Python\\Python312\\Lib\\site-packages\\gradio\\blocks.py\", line 1522, in process_api\n",
      "    result = await self.call_function(\n",
      "             ^^^^^^^^^^^^^^^^^^^^^^^^^\n",
      "  File \"C:\\Users\\AISHWARYA\\AppData\\Local\\Programs\\Python\\Python312\\Lib\\site-packages\\gradio\\blocks.py\", line 1144, in call_function\n",
      "    prediction = await anyio.to_thread.run_sync(\n",
      "                 ^^^^^^^^^^^^^^^^^^^^^^^^^^^^^^^\n",
      "  File \"C:\\Users\\AISHWARYA\\AppData\\Local\\Programs\\Python\\Python312\\Lib\\site-packages\\anyio\\to_thread.py\", line 33, in run_sync\n",
      "    return await get_asynclib().run_sync_in_worker_thread(\n",
      "           ^^^^^^^^^^^^^^^^^^^^^^^^^^^^^^^^^^^^^^^^^^^^^^^\n",
      "  File \"C:\\Users\\AISHWARYA\\AppData\\Local\\Programs\\Python\\Python312\\Lib\\site-packages\\anyio\\_backends\\_asyncio.py\", line 877, in run_sync_in_worker_thread\n",
      "    return await future\n",
      "           ^^^^^^^^^^^^\n",
      "  File \"C:\\Users\\AISHWARYA\\AppData\\Local\\Programs\\Python\\Python312\\Lib\\site-packages\\anyio\\_backends\\_asyncio.py\", line 807, in run\n",
      "    result = context.run(func, *args)\n",
      "             ^^^^^^^^^^^^^^^^^^^^^^^^\n",
      "  File \"C:\\Users\\AISHWARYA\\AppData\\Local\\Programs\\Python\\Python312\\Lib\\site-packages\\gradio\\utils.py\", line 674, in wrapper\n",
      "    response = f(*args, **kwargs)\n",
      "               ^^^^^^^^^^^^^^^^^^\n",
      "  File \"C:\\Users\\AISHWARYA\\AppData\\Local\\Temp\\ipykernel_24372\\2323687586.py\", line 5, in greet\n",
      "    pred = model1.predict(datapoint)\n",
      "           ^^^^^^^^^^^^^^^^^^^^^^^^^\n",
      "  File \"C:\\Users\\AISHWARYA\\AppData\\Local\\Programs\\Python\\Python312\\Lib\\site-packages\\sklearn\\linear_model\\_base.py\", line 451, in predict\n",
      "    scores = self.decision_function(X)\n",
      "             ^^^^^^^^^^^^^^^^^^^^^^^^^\n",
      "  File \"C:\\Users\\AISHWARYA\\AppData\\Local\\Programs\\Python\\Python312\\Lib\\site-packages\\sklearn\\linear_model\\_base.py\", line 432, in decision_function\n",
      "    X = self._validate_data(X, accept_sparse=\"csr\", reset=False)\n",
      "        ^^^^^^^^^^^^^^^^^^^^^^^^^^^^^^^^^^^^^^^^^^^^^^^^^^^^^^^^\n",
      "  File \"C:\\Users\\AISHWARYA\\AppData\\Local\\Programs\\Python\\Python312\\Lib\\site-packages\\sklearn\\base.py\", line 605, in _validate_data\n",
      "    out = check_array(X, input_name=\"X\", **check_params)\n",
      "          ^^^^^^^^^^^^^^^^^^^^^^^^^^^^^^^^^^^^^^^^^^^^^^\n",
      "  File \"C:\\Users\\AISHWARYA\\AppData\\Local\\Programs\\Python\\Python312\\Lib\\site-packages\\sklearn\\utils\\validation.py\", line 930, in check_array\n",
      "    raise ValueError(\n",
      "ValueError: Expected 2D array, got scalar array instead:\n",
      "array=1.0.\n",
      "Reshape your data either using array.reshape(-1, 1) if your data has a single feature or array.reshape(1, -1) if it contains a single sample.\n",
      "\n",
      "The above exception was the direct cause of the following exception:\n",
      "\n",
      "Traceback (most recent call last):\n",
      "  File \"C:\\Users\\AISHWARYA\\AppData\\Local\\Programs\\Python\\Python312\\Lib\\site-packages\\gradio\\queueing.py\", line 501, in process_events\n",
      "    response = await self.call_prediction(awake_events, batch)\n",
      "               ^^^^^^^^^^^^^^^^^^^^^^^^^^^^^^^^^^^^^^^^^^^^^^^\n",
      "  File \"C:\\Users\\AISHWARYA\\AppData\\Local\\Programs\\Python\\Python312\\Lib\\site-packages\\gradio\\queueing.py\", line 465, in call_prediction\n",
      "    raise Exception(str(error) if show_error else None) from error\n",
      "Exception: None\n"
     ]
    }
   ],
   "source": [
    "import gradio as gr\n",
    "\n",
    "def greet(datapoint):\n",
    "    model1 = pickle.load(open('trained_model.sav', 'rb'))\n",
    "    pred = model1.predict(datapoint)\n",
    "    if pred == 0:\n",
    "        return 'Negative Tweet'\n",
    "    elif pred == 1:\n",
    "        return 'Neutral Tweet'\n",
    "    elif pred == 2:\n",
    "        return 'Positive Tweet'\n",
    "\n",
    "demo = gr.Interface(fn=greet, inputs=[\"number\"], outputs=\"text\")\n",
    "demo.launch()"
   ]
  },
  {
   "cell_type": "code",
   "execution_count": null,
   "id": "3f81e92f-15b7-407f-a0a7-e0ef209ca612",
   "metadata": {},
   "outputs": [],
   "source": []
  }
 ],
 "metadata": {
  "kernelspec": {
   "display_name": "Python 3 (ipykernel)",
   "language": "python",
   "name": "python3"
  },
  "language_info": {
   "codemirror_mode": {
    "name": "ipython",
    "version": 3
   },
   "file_extension": ".py",
   "mimetype": "text/x-python",
   "name": "python",
   "nbconvert_exporter": "python",
   "pygments_lexer": "ipython3",
   "version": "3.10.5"
  }
 },
 "nbformat": 4,
 "nbformat_minor": 5
}
